{
 "cells": [
  {
   "cell_type": "markdown",
   "metadata": {},
   "source": [
    "# Predicting Crops Yield  : A Machine Learning  Approach \n",
    " \n",
    "The science of training machines to learn and produce models for future predictions is widely used, and not for nothing.\n",
    "Agriculture plays a critical role in the global economy. With the continuing expansion of the human population understanding worldwide crop yield is central to addressing food security challenges and reducing the impacts of climate change. \n",
    "\n",
    "Crop yield prediction is an important agricultural problem. The Agricultural yield primarily depends on weather conditions (rain, temperature, etc), pesticides and accurate information about history of crop yield is an important thing for making decisions related to agricultural risk management and future predictions.  The basic ingredients that sustain humans are similar. We eat a lot of corn, wheat, rice and other simple crops. In this project the prediction of top 10 most consumed yields all over the world is established by applying machine learning techniques. In this project I will predict crops yield worldwide for 10 most consumed crops. It is a regression problem\n",
    "\n",
    "Cuisine varies greatly around the world, the basic ingredients that sustain humans are pretty similar. We eat a lot of corn, wheat, rice and other simple crops. In this project the prediction of top 10 most consumed yields all over the world is established by applying machine learning techniqus. \n",
    " \n",
    " These corps include :\n",
    "\n",
    "- Cassava                \n",
    "- Maize                  \n",
    "- Plantains and others   \n",
    "- Potatoes                \n",
    "- Rice, paddy             \n",
    "- Sorghum                \n",
    "- Soybeans               \n",
    "- Sweet potatoes       \n",
    "- Wheat                  \n",
    "- Yams             \n",
    "\n",
    "\n",
    "In the project, machine learning methods are applied to predict crop yield using publicly available data from FAO and World Data Bank. \n"
   ]
  },
  {
   "cell_type": "markdown",
   "metadata": {},
   "source": [
    "# Part One: Gathering & Cleaning Data\n",
    "\n",
    "### Crops Yield Data:\n",
    "\n",
    "\n",
    " \n",
    "After importing required libraries, crops yield of ten most consumed crops around the world was downloaded from FAO webiste.The collected data include country, item, year starting from 1961 to 2016 and yield value. "
   ]
  },
  {
   "cell_type": "code",
   "execution_count": 72,
   "metadata": {
    "execution": {
     "iopub.execute_input": "2021-12-07T17:36:03.113241Z",
     "iopub.status.busy": "2021-12-07T17:36:03.112955Z",
     "iopub.status.idle": "2021-12-07T17:36:03.118044Z",
     "shell.execute_reply": "2021-12-07T17:36:03.117070Z",
     "shell.execute_reply.started": "2021-12-07T17:36:03.113211Z"
    }
   },
   "outputs": [],
   "source": [
    "import numpy as np \n",
    "import pandas as pd "
   ]
  },
  {
   "cell_type": "code",
   "execution_count": 73,
   "metadata": {
    "execution": {
     "iopub.execute_input": "2021-12-07T17:36:03.120710Z",
     "iopub.status.busy": "2021-12-07T17:36:03.120420Z",
     "iopub.status.idle": "2021-12-07T17:36:03.224439Z",
     "shell.execute_reply": "2021-12-07T17:36:03.223561Z",
     "shell.execute_reply.started": "2021-12-07T17:36:03.120665Z"
    }
   },
   "outputs": [],
   "source": [
    "df_yield = pd.read_csv('../input/crop-yield-prediction-dataset/yield.csv')\n",
    "df_yield.shape"
   ]
  },
  {
   "cell_type": "code",
   "execution_count": 74,
   "metadata": {
    "execution": {
     "iopub.execute_input": "2021-12-07T17:36:03.226352Z",
     "iopub.status.busy": "2021-12-07T17:36:03.226071Z",
     "iopub.status.idle": "2021-12-07T17:36:03.241765Z",
     "shell.execute_reply": "2021-12-07T17:36:03.240837Z",
     "shell.execute_reply.started": "2021-12-07T17:36:03.226318Z"
    },
    "scrolled": true
   },
   "outputs": [],
   "source": [
    "df_yield.head()"
   ]
  },
  {
   "cell_type": "code",
   "execution_count": 75,
   "metadata": {
    "execution": {
     "iopub.execute_input": "2021-12-07T17:36:03.243446Z",
     "iopub.status.busy": "2021-12-07T17:36:03.243145Z",
     "iopub.status.idle": "2021-12-07T17:36:03.262931Z",
     "shell.execute_reply": "2021-12-07T17:36:03.262141Z",
     "shell.execute_reply.started": "2021-12-07T17:36:03.243411Z"
    },
    "scrolled": true
   },
   "outputs": [],
   "source": [
    "df_yield.tail()"
   ]
  },
  {
   "cell_type": "markdown",
   "metadata": {},
   "source": [
    "Looking at the columns in the csv, we can rename **Value** to **hg/ha_yield** to make it easier to recognise that this is our crops yields production value. In addition to removal of unnecessary coloumns like Area Code, Domain, Item Code, etc."
   ]
  },
  {
   "cell_type": "code",
   "execution_count": 76,
   "metadata": {
    "execution": {
     "iopub.execute_input": "2021-12-07T17:36:03.265400Z",
     "iopub.status.busy": "2021-12-07T17:36:03.265060Z",
     "iopub.status.idle": "2021-12-07T17:36:03.301441Z",
     "shell.execute_reply": "2021-12-07T17:36:03.300659Z",
     "shell.execute_reply.started": "2021-12-07T17:36:03.265359Z"
    },
    "scrolled": true
   },
   "outputs": [],
   "source": [
    "# rename columns.\n",
    "df_yield = df_yield.rename(index=str, columns={\"Value\": \"hg/ha_yield\"})\n",
    "df_yield.head()"
   ]
  },
  {
   "cell_type": "code",
   "execution_count": 77,
   "metadata": {
    "execution": {
     "iopub.execute_input": "2021-12-07T17:36:03.303150Z",
     "iopub.status.busy": "2021-12-07T17:36:03.302854Z",
     "iopub.status.idle": "2021-12-07T17:36:03.316934Z",
     "shell.execute_reply": "2021-12-07T17:36:03.316267Z",
     "shell.execute_reply.started": "2021-12-07T17:36:03.303073Z"
    }
   },
   "outputs": [],
   "source": [
    "# drop unwanted columns.\n",
    "df_yield = df_yield.drop(['Year Code','Element Code','Element','Year Code','Area Code','Domain Code','Domain','Unit','Item Code'], axis=1)\n",
    "df_yield.head()"
   ]
  },
  {
   "cell_type": "code",
   "execution_count": 78,
   "metadata": {
    "execution": {
     "iopub.execute_input": "2021-12-07T17:36:03.318652Z",
     "iopub.status.busy": "2021-12-07T17:36:03.317972Z",
     "iopub.status.idle": "2021-12-07T17:36:03.341207Z",
     "shell.execute_reply": "2021-12-07T17:36:03.340334Z",
     "shell.execute_reply.started": "2021-12-07T17:36:03.318613Z"
    },
    "scrolled": true
   },
   "outputs": [],
   "source": [
    "df_yield.describe()"
   ]
  },
  {
   "cell_type": "markdown",
   "metadata": {},
   "source": [
    "From cell above, we know the dataframe starts at 1961 and ends at 2016, this is all the avialable data up to date from FAO. "
   ]
  },
  {
   "cell_type": "code",
   "execution_count": 79,
   "metadata": {
    "execution": {
     "iopub.execute_input": "2021-12-07T17:36:03.342988Z",
     "iopub.status.busy": "2021-12-07T17:36:03.342632Z",
     "iopub.status.idle": "2021-12-07T17:36:03.369804Z",
     "shell.execute_reply": "2021-12-07T17:36:03.369016Z",
     "shell.execute_reply.started": "2021-12-07T17:36:03.342949Z"
    }
   },
   "outputs": [],
   "source": [
    "df_yield.info()"
   ]
  },
  {
   "cell_type": "markdown",
   "metadata": {},
   "source": [
    "All of the columns type are in right type. "
   ]
  },
  {
   "cell_type": "markdown",
   "metadata": {},
   "source": [
    "### Climate Data : Rainfall \n",
    "The climatic factors include rainfall and temperature. They are abiotic components, including pesticides and soil, of the environmental factors that influence plant growth and development.\n",
    "\n",
    "\n",
    "Rainfall has a dramatic effect on agriculture. For this project rain fall per year information was gathered from World Data Bank. "
   ]
  },
  {
   "cell_type": "code",
   "execution_count": 80,
   "metadata": {
    "execution": {
     "iopub.execute_input": "2021-12-07T17:36:03.371714Z",
     "iopub.status.busy": "2021-12-07T17:36:03.371235Z",
     "iopub.status.idle": "2021-12-07T17:36:03.391628Z",
     "shell.execute_reply": "2021-12-07T17:36:03.390879Z",
     "shell.execute_reply.started": "2021-12-07T17:36:03.371676Z"
    },
    "scrolled": true
   },
   "outputs": [],
   "source": [
    "df_rain = pd.read_csv('../input/crop-yield-prediction-dataset/rainfall.csv')\n",
    "df_rain.head()"
   ]
  },
  {
   "cell_type": "code",
   "execution_count": 81,
   "metadata": {
    "execution": {
     "iopub.execute_input": "2021-12-07T17:36:03.394716Z",
     "iopub.status.busy": "2021-12-07T17:36:03.393892Z",
     "iopub.status.idle": "2021-12-07T17:36:03.402777Z",
     "shell.execute_reply": "2021-12-07T17:36:03.401816Z",
     "shell.execute_reply.started": "2021-12-07T17:36:03.394671Z"
    }
   },
   "outputs": [],
   "source": [
    "df_rain = df_rain.rename(index=str, columns={\" Area\": 'Area'})"
   ]
  },
  {
   "cell_type": "markdown",
   "metadata": {},
   "source": [
    "Making sure that names of columns are unified across all dataframes is important for merging after cleaning afterwards. "
   ]
  },
  {
   "cell_type": "code",
   "execution_count": 82,
   "metadata": {
    "execution": {
     "iopub.execute_input": "2021-12-07T17:36:03.407796Z",
     "iopub.status.busy": "2021-12-07T17:36:03.407580Z",
     "iopub.status.idle": "2021-12-07T17:36:03.424273Z",
     "shell.execute_reply": "2021-12-07T17:36:03.423477Z",
     "shell.execute_reply.started": "2021-12-07T17:36:03.407773Z"
    },
    "scrolled": true
   },
   "outputs": [],
   "source": [
    "# check data types \n",
    "df_rain.info()"
   ]
  },
  {
   "cell_type": "markdown",
   "metadata": {},
   "source": [
    "We can see from cell above that average_rain_fall_mm_per_year type is an object, we need to turn it to a float value. "
   ]
  },
  {
   "cell_type": "code",
   "execution_count": 83,
   "metadata": {
    "execution": {
     "iopub.execute_input": "2021-12-07T17:36:03.426134Z",
     "iopub.status.busy": "2021-12-07T17:36:03.425656Z",
     "iopub.status.idle": "2021-12-07T17:36:03.445733Z",
     "shell.execute_reply": "2021-12-07T17:36:03.444898Z",
     "shell.execute_reply.started": "2021-12-07T17:36:03.426097Z"
    },
    "scrolled": true
   },
   "outputs": [],
   "source": [
    "# convert average_rain_fall_mm_per_year from object to float\n",
    "df_rain['average_rain_fall_mm_per_year'] = pd.to_numeric(df_rain['average_rain_fall_mm_per_year'],errors = 'coerce')\n",
    "df_rain.info()"
   ]
  },
  {
   "cell_type": "markdown",
   "metadata": {},
   "source": [
    "Next, droping any empty rows from dataset and merge yield dataframe with rain dataframe by year and area columns"
   ]
  },
  {
   "cell_type": "code",
   "execution_count": 84,
   "metadata": {
    "execution": {
     "iopub.execute_input": "2021-12-07T17:36:03.447846Z",
     "iopub.status.busy": "2021-12-07T17:36:03.447347Z",
     "iopub.status.idle": "2021-12-07T17:36:03.458916Z",
     "shell.execute_reply": "2021-12-07T17:36:03.458020Z",
     "shell.execute_reply.started": "2021-12-07T17:36:03.447806Z"
    }
   },
   "outputs": [],
   "source": [
    "df_rain = df_rain.dropna()"
   ]
  },
  {
   "cell_type": "code",
   "execution_count": 85,
   "metadata": {
    "execution": {
     "iopub.execute_input": "2021-12-07T17:36:03.460707Z",
     "iopub.status.busy": "2021-12-07T17:36:03.460382Z",
     "iopub.status.idle": "2021-12-07T17:36:03.481054Z",
     "shell.execute_reply": "2021-12-07T17:36:03.479678Z",
     "shell.execute_reply.started": "2021-12-07T17:36:03.460672Z"
    },
    "scrolled": true
   },
   "outputs": [],
   "source": [
    "df_rain.describe()"
   ]
  },
  {
   "cell_type": "markdown",
   "metadata": {},
   "source": [
    "The rainfall dataframe begins at 1985 and ends at 2016. "
   ]
  },
  {
   "cell_type": "code",
   "execution_count": 86,
   "metadata": {
    "execution": {
     "iopub.execute_input": "2021-12-07T17:36:03.482876Z",
     "iopub.status.busy": "2021-12-07T17:36:03.482607Z",
     "iopub.status.idle": "2021-12-07T17:36:03.499879Z",
     "shell.execute_reply": "2021-12-07T17:36:03.499228Z",
     "shell.execute_reply.started": "2021-12-07T17:36:03.482845Z"
    }
   },
   "outputs": [],
   "source": [
    "# merge yield dataframe with rain dataframe by year and area columns \n",
    "yield_df = pd.merge(df_yield, df_rain, on=['Year','Area'])"
   ]
  },
  {
   "cell_type": "markdown",
   "metadata": {},
   "source": [
    "Now, we view the final shape of the dataframe and info of values:"
   ]
  },
  {
   "cell_type": "code",
   "execution_count": 87,
   "metadata": {
    "execution": {
     "iopub.execute_input": "2021-12-07T17:36:03.501512Z",
     "iopub.status.busy": "2021-12-07T17:36:03.501245Z",
     "iopub.status.idle": "2021-12-07T17:36:03.507332Z",
     "shell.execute_reply": "2021-12-07T17:36:03.506391Z",
     "shell.execute_reply.started": "2021-12-07T17:36:03.501479Z"
    }
   },
   "outputs": [],
   "source": [
    "yield_df.shape"
   ]
  },
  {
   "cell_type": "code",
   "execution_count": 88,
   "metadata": {
    "execution": {
     "iopub.execute_input": "2021-12-07T17:36:03.509209Z",
     "iopub.status.busy": "2021-12-07T17:36:03.508930Z",
     "iopub.status.idle": "2021-12-07T17:36:03.525937Z",
     "shell.execute_reply": "2021-12-07T17:36:03.525084Z",
     "shell.execute_reply.started": "2021-12-07T17:36:03.509157Z"
    },
    "scrolled": true
   },
   "outputs": [],
   "source": [
    "yield_df.head()"
   ]
  },
  {
   "cell_type": "markdown",
   "metadata": {},
   "source": [
    "We can see that now the years start from the first yield dataframe the starting year was 1961, now it's 1985 because that's when the rainfall data begins. "
   ]
  },
  {
   "cell_type": "code",
   "execution_count": 89,
   "metadata": {
    "execution": {
     "iopub.execute_input": "2021-12-07T17:36:03.527652Z",
     "iopub.status.busy": "2021-12-07T17:36:03.527367Z",
     "iopub.status.idle": "2021-12-07T17:36:03.549977Z",
     "shell.execute_reply": "2021-12-07T17:36:03.549141Z",
     "shell.execute_reply.started": "2021-12-07T17:36:03.527617Z"
    },
    "scrolled": true
   },
   "outputs": [],
   "source": [
    "yield_df.describe()"
   ]
  },
  {
   "cell_type": "markdown",
   "metadata": {},
   "source": [
    "### Pesticides Data:\n",
    "Pesticides used for each item and country was also collected from FAO database.  "
   ]
  },
  {
   "cell_type": "code",
   "execution_count": 90,
   "metadata": {
    "execution": {
     "iopub.execute_input": "2021-12-07T17:36:03.551529Z",
     "iopub.status.busy": "2021-12-07T17:36:03.551228Z",
     "iopub.status.idle": "2021-12-07T17:36:03.573398Z",
     "shell.execute_reply": "2021-12-07T17:36:03.572551Z",
     "shell.execute_reply.started": "2021-12-07T17:36:03.551495Z"
    }
   },
   "outputs": [],
   "source": [
    "df_pes = pd.read_csv('../input/crop-yield-prediction-dataset/pesticides.csv')\n",
    "df_pes.head()"
   ]
  },
  {
   "cell_type": "code",
   "execution_count": 91,
   "metadata": {
    "execution": {
     "iopub.execute_input": "2021-12-07T17:36:03.575075Z",
     "iopub.status.busy": "2021-12-07T17:36:03.574750Z",
     "iopub.status.idle": "2021-12-07T17:36:03.589791Z",
     "shell.execute_reply": "2021-12-07T17:36:03.588969Z",
     "shell.execute_reply.started": "2021-12-07T17:36:03.575041Z"
    }
   },
   "outputs": [],
   "source": [
    "df_pes = df_pes.rename(index=str, columns={\"Value\": \"pesticides_tonnes\"})\n",
    "df_pes = df_pes.drop(['Element','Domain','Unit','Item'], axis=1)\n",
    "df_pes.head()"
   ]
  },
  {
   "cell_type": "code",
   "execution_count": 92,
   "metadata": {
    "execution": {
     "iopub.execute_input": "2021-12-07T17:36:03.592126Z",
     "iopub.status.busy": "2021-12-07T17:36:03.591151Z",
     "iopub.status.idle": "2021-12-07T17:36:03.610855Z",
     "shell.execute_reply": "2021-12-07T17:36:03.610189Z",
     "shell.execute_reply.started": "2021-12-07T17:36:03.592091Z"
    },
    "scrolled": true
   },
   "outputs": [],
   "source": [
    "df_pes.describe()"
   ]
  },
  {
   "cell_type": "code",
   "execution_count": 93,
   "metadata": {
    "execution": {
     "iopub.execute_input": "2021-12-07T17:36:03.613275Z",
     "iopub.status.busy": "2021-12-07T17:36:03.612877Z",
     "iopub.status.idle": "2021-12-07T17:36:03.627913Z",
     "shell.execute_reply": "2021-12-07T17:36:03.627122Z",
     "shell.execute_reply.started": "2021-12-07T17:36:03.613238Z"
    }
   },
   "outputs": [],
   "source": [
    "df_pes.info()"
   ]
  },
  {
   "cell_type": "code",
   "execution_count": 94,
   "metadata": {
    "execution": {
     "iopub.execute_input": "2021-12-07T17:36:03.630479Z",
     "iopub.status.busy": "2021-12-07T17:36:03.629984Z",
     "iopub.status.idle": "2021-12-07T17:36:03.644869Z",
     "shell.execute_reply": "2021-12-07T17:36:03.644134Z",
     "shell.execute_reply.started": "2021-12-07T17:36:03.630443Z"
    }
   },
   "outputs": [],
   "source": [
    "# merge Pesticides dataframe with yield dataframe \n",
    "yield_df = pd.merge(yield_df, df_pes, on=['Year','Area'])\n",
    "yield_df.shape"
   ]
  },
  {
   "cell_type": "code",
   "execution_count": 95,
   "metadata": {
    "execution": {
     "iopub.execute_input": "2021-12-07T17:36:03.646300Z",
     "iopub.status.busy": "2021-12-07T17:36:03.646035Z",
     "iopub.status.idle": "2021-12-07T17:36:03.657855Z",
     "shell.execute_reply": "2021-12-07T17:36:03.657069Z",
     "shell.execute_reply.started": "2021-12-07T17:36:03.646269Z"
    },
    "scrolled": true
   },
   "outputs": [],
   "source": [
    "yield_df.head()"
   ]
  },
  {
   "cell_type": "markdown",
   "metadata": {},
   "source": [
    "### Average Temprature: \n",
    "\n",
    "Average Temprature for each country was colleced from World Bank Data. "
   ]
  },
  {
   "cell_type": "code",
   "execution_count": 96,
   "metadata": {
    "execution": {
     "iopub.execute_input": "2021-12-07T17:36:03.659806Z",
     "iopub.status.busy": "2021-12-07T17:36:03.659334Z",
     "iopub.status.idle": "2021-12-07T17:36:03.695432Z",
     "shell.execute_reply": "2021-12-07T17:36:03.694746Z",
     "shell.execute_reply.started": "2021-12-07T17:36:03.659772Z"
    }
   },
   "outputs": [],
   "source": [
    "avg_temp=  pd.read_csv('../input/crop-yield-prediction-dataset/temp.csv')"
   ]
  },
  {
   "cell_type": "code",
   "execution_count": 97,
   "metadata": {
    "execution": {
     "iopub.execute_input": "2021-12-07T17:36:03.696943Z",
     "iopub.status.busy": "2021-12-07T17:36:03.696691Z",
     "iopub.status.idle": "2021-12-07T17:36:03.707405Z",
     "shell.execute_reply": "2021-12-07T17:36:03.706542Z",
     "shell.execute_reply.started": "2021-12-07T17:36:03.696911Z"
    },
    "scrolled": true
   },
   "outputs": [],
   "source": [
    "avg_temp.head()"
   ]
  },
  {
   "cell_type": "code",
   "execution_count": 98,
   "metadata": {
    "execution": {
     "iopub.execute_input": "2021-12-07T17:36:03.709528Z",
     "iopub.status.busy": "2021-12-07T17:36:03.708921Z",
     "iopub.status.idle": "2021-12-07T17:36:03.730367Z",
     "shell.execute_reply": "2021-12-07T17:36:03.729583Z",
     "shell.execute_reply.started": "2021-12-07T17:36:03.709492Z"
    },
    "scrolled": true
   },
   "outputs": [],
   "source": [
    "avg_temp.describe()"
   ]
  },
  {
   "cell_type": "markdown",
   "metadata": {},
   "source": [
    "So average temprature starts from 1743 and ends at 2013, with some empty rows that we have to drop."
   ]
  },
  {
   "cell_type": "code",
   "execution_count": 99,
   "metadata": {
    "execution": {
     "iopub.execute_input": "2021-12-07T17:36:03.735302Z",
     "iopub.status.busy": "2021-12-07T17:36:03.735096Z",
     "iopub.status.idle": "2021-12-07T17:36:03.769791Z",
     "shell.execute_reply": "2021-12-07T17:36:03.769005Z",
     "shell.execute_reply.started": "2021-12-07T17:36:03.735280Z"
    },
    "scrolled": true
   },
   "outputs": [],
   "source": [
    "avg_temp = avg_temp.rename(index=str, columns={\"year\": \"Year\", \"country\":'Area'})\n",
    "avg_temp.head()"
   ]
  },
  {
   "cell_type": "code",
   "execution_count": 100,
   "metadata": {
    "execution": {
     "iopub.execute_input": "2021-12-07T17:36:03.771421Z",
     "iopub.status.busy": "2021-12-07T17:36:03.771090Z",
     "iopub.status.idle": "2021-12-07T17:36:03.801523Z",
     "shell.execute_reply": "2021-12-07T17:36:03.800690Z",
     "shell.execute_reply.started": "2021-12-07T17:36:03.771386Z"
    },
    "scrolled": true
   },
   "outputs": [],
   "source": [
    "yield_df = pd.merge(yield_df,avg_temp, on=['Area','Year'])\n",
    "yield_df.head()"
   ]
  },
  {
   "cell_type": "code",
   "execution_count": 101,
   "metadata": {
    "execution": {
     "iopub.execute_input": "2021-12-07T17:36:03.803266Z",
     "iopub.status.busy": "2021-12-07T17:36:03.802942Z",
     "iopub.status.idle": "2021-12-07T17:36:03.809778Z",
     "shell.execute_reply": "2021-12-07T17:36:03.808892Z",
     "shell.execute_reply.started": "2021-12-07T17:36:03.803232Z"
    }
   },
   "outputs": [],
   "source": [
    "yield_df.shape"
   ]
  },
  {
   "cell_type": "code",
   "execution_count": 102,
   "metadata": {
    "execution": {
     "iopub.execute_input": "2021-12-07T17:36:03.812088Z",
     "iopub.status.busy": "2021-12-07T17:36:03.811087Z",
     "iopub.status.idle": "2021-12-07T17:36:03.839927Z",
     "shell.execute_reply": "2021-12-07T17:36:03.839173Z",
     "shell.execute_reply.started": "2021-12-07T17:36:03.812050Z"
    }
   },
   "outputs": [],
   "source": [
    "yield_df.describe()"
   ]
  },
  {
   "cell_type": "code",
   "execution_count": 103,
   "metadata": {
    "execution": {
     "iopub.execute_input": "2021-12-07T17:36:03.841105Z",
     "iopub.status.busy": "2021-12-07T17:36:03.840900Z",
     "iopub.status.idle": "2021-12-07T17:36:03.855238Z",
     "shell.execute_reply": "2021-12-07T17:36:03.854490Z",
     "shell.execute_reply.started": "2021-12-07T17:36:03.841082Z"
    },
    "scrolled": true
   },
   "outputs": [],
   "source": [
    "yield_df.isnull().sum()"
   ]
  },
  {
   "cell_type": "markdown",
   "metadata": {},
   "source": [
    "Great, no empty values!"
   ]
  },
  {
   "cell_type": "markdown",
   "metadata": {},
   "source": [
    "# Part Two: Data Exploration\n",
    "\n"
   ]
  },
  {
   "cell_type": "markdown",
   "metadata": {},
   "source": [
    "**yield_df** is the final obtained dataframe; "
   ]
  },
  {
   "cell_type": "code",
   "execution_count": 104,
   "metadata": {
    "execution": {
     "iopub.execute_input": "2021-12-07T17:36:03.856781Z",
     "iopub.status.busy": "2021-12-07T17:36:03.856536Z",
     "iopub.status.idle": "2021-12-07T17:36:03.875389Z",
     "shell.execute_reply": "2021-12-07T17:36:03.874643Z",
     "shell.execute_reply.started": "2021-12-07T17:36:03.856750Z"
    },
    "scrolled": true
   },
   "outputs": [],
   "source": [
    "yield_df.groupby('Item').count()"
   ]
  },
  {
   "cell_type": "code",
   "execution_count": 105,
   "metadata": {
    "execution": {
     "iopub.execute_input": "2021-12-07T17:36:03.876981Z",
     "iopub.status.busy": "2021-12-07T17:36:03.876733Z",
     "iopub.status.idle": "2021-12-07T17:36:03.903748Z",
     "shell.execute_reply": "2021-12-07T17:36:03.903066Z",
     "shell.execute_reply.started": "2021-12-07T17:36:03.876948Z"
    }
   },
   "outputs": [],
   "source": [
    "yield_df.describe()"
   ]
  },
  {
   "cell_type": "markdown",
   "metadata": {},
   "source": [
    "It can be noticed the high variance in the values for each columns, later on I'll account for that will scaling. "
   ]
  },
  {
   "cell_type": "code",
   "execution_count": 106,
   "metadata": {
    "execution": {
     "iopub.execute_input": "2021-12-07T17:36:03.905274Z",
     "iopub.status.busy": "2021-12-07T17:36:03.905004Z",
     "iopub.status.idle": "2021-12-07T17:36:03.916973Z",
     "shell.execute_reply": "2021-12-07T17:36:03.916238Z",
     "shell.execute_reply.started": "2021-12-07T17:36:03.905243Z"
    }
   },
   "outputs": [],
   "source": [
    "yield_df['Area'].nunique()"
   ]
  },
  {
   "cell_type": "markdown",
   "metadata": {},
   "source": [
    "The dataframe has 101 Countries, ordering these by 10 the highest yield production: "
   ]
  },
  {
   "cell_type": "code",
   "execution_count": 107,
   "metadata": {
    "execution": {
     "iopub.execute_input": "2021-12-07T17:36:03.918700Z",
     "iopub.status.busy": "2021-12-07T17:36:03.918457Z",
     "iopub.status.idle": "2021-12-07T17:36:03.931075Z",
     "shell.execute_reply": "2021-12-07T17:36:03.930341Z",
     "shell.execute_reply.started": "2021-12-07T17:36:03.918667Z"
    },
    "scrolled": true
   },
   "outputs": [],
   "source": [
    "yield_df.groupby(['Area'],sort=True)['hg/ha_yield'].sum().nlargest(10)"
   ]
  },
  {
   "cell_type": "markdown",
   "metadata": {},
   "source": [
    "India has the highest yield production in the dataset. Inclusing items in the groupby:"
   ]
  },
  {
   "cell_type": "code",
   "execution_count": 108,
   "metadata": {
    "execution": {
     "iopub.execute_input": "2021-12-07T17:36:03.932532Z",
     "iopub.status.busy": "2021-12-07T17:36:03.932283Z",
     "iopub.status.idle": "2021-12-07T17:36:03.950211Z",
     "shell.execute_reply": "2021-12-07T17:36:03.949599Z",
     "shell.execute_reply.started": "2021-12-07T17:36:03.932502Z"
    },
    "scrolled": true
   },
   "outputs": [],
   "source": [
    "yield_df.groupby(['Item','Area'],sort=True)['hg/ha_yield'].sum().nlargest(10)"
   ]
  },
  {
   "cell_type": "markdown",
   "metadata": {},
   "source": [
    "India is the highest for production of cassava and potatoes. Potatoes seems to be the dominated crop in the dataset, being the highest in 4 countries. "
   ]
  },
  {
   "cell_type": "markdown",
   "metadata": {},
   "source": [
    "The final dataframe starts from 1990 and ends in 2013, that's 23 years worth of data for 101 countries. "
   ]
  },
  {
   "cell_type": "markdown",
   "metadata": {},
   "source": [
    "Now, exploring the relationships between the colunms of the dataframe, a good way to quickly check correlations among columns is by visualizing the correlation matrix as a heatmap."
   ]
  },
  {
   "cell_type": "code",
   "execution_count": 109,
   "metadata": {
    "execution": {
     "iopub.execute_input": "2021-12-07T17:36:03.952330Z",
     "iopub.status.busy": "2021-12-07T17:36:03.951944Z",
     "iopub.status.idle": "2021-12-07T17:36:03.956389Z",
     "shell.execute_reply": "2021-12-07T17:36:03.955503Z",
     "shell.execute_reply.started": "2021-12-07T17:36:03.952299Z"
    }
   },
   "outputs": [],
   "source": [
    "import sklearn\n",
    "import seaborn as sns\n",
    "import matplotlib.pyplot as plt"
   ]
  },
  {
   "cell_type": "code",
   "execution_count": 110,
   "metadata": {
    "execution": {
     "iopub.execute_input": "2021-12-07T17:36:03.957986Z",
     "iopub.status.busy": "2021-12-07T17:36:03.957692Z",
     "iopub.status.idle": "2021-12-07T17:36:04.284152Z",
     "shell.execute_reply": "2021-12-07T17:36:04.283475Z",
     "shell.execute_reply.started": "2021-12-07T17:36:03.957921Z"
    }
   },
   "outputs": [],
   "source": [
    "correlation_data=yield_df.select_dtypes(include=[np.number]).corr()\n",
    "\n",
    "mask = np.zeros_like(correlation_data, dtype=np.bool)\n",
    "mask[np.triu_indices_from(mask)] = True\n",
    "\n",
    "f, ax = plt.subplots(figsize=(11, 9))\n",
    "\n",
    "# Generate a custom diverging colormap\n",
    "cmap = sns.palette=\"vlag\"\n",
    "\n",
    "# Draw the heatmap with the mask and correct aspect ratio\n",
    "sns.heatmap(correlation_data, mask=mask, cmap=cmap, vmax=.3, center=0,\n",
    "            square=True, linewidths=.5, cbar_kws={\"shrink\": .5});"
   ]
  },
  {
   "cell_type": "markdown",
   "metadata": {},
   "source": [
    "It can be seen from the above correlation map that there is no correlation between any of the colmuns in the dataframe. "
   ]
  },
  {
   "cell_type": "markdown",
   "metadata": {},
   "source": [
    "# Part Three: Data Preprocessing"
   ]
  },
  {
   "cell_type": "markdown",
   "metadata": {},
   "source": [
    "Data Preprocessing is a technique that is used to convert the raw data into a clean data set. In other words, whenever the data is gathered from different sources it is collected in raw format which is not feasible for the analysis.  \n",
    "\n",
    "\n"
   ]
  },
  {
   "cell_type": "code",
   "execution_count": 111,
   "metadata": {
    "execution": {
     "iopub.execute_input": "2021-12-07T17:36:04.285822Z",
     "iopub.status.busy": "2021-12-07T17:36:04.285410Z",
     "iopub.status.idle": "2021-12-07T17:36:04.302287Z",
     "shell.execute_reply": "2021-12-07T17:36:04.301623Z",
     "shell.execute_reply.started": "2021-12-07T17:36:04.285787Z"
    },
    "scrolled": true
   },
   "outputs": [],
   "source": [
    "yield_df.head()"
   ]
  },
  {
   "cell_type": "markdown",
   "metadata": {},
   "source": [
    "### Encoding Categorical Variables:\n",
    "There are two categorical columns in the dataframe, categorical data are variables that contain label values rather than numeric values. The number of possible values is often limited to a fixed set, like in this case, items and countries values.\n",
    "Many machine learning algorithms cannot operate on label data directly. They require all input variables and output variables to be numeric.\n",
    "\n",
    "This means that categorical data must be converted to a numerical form. One hot encoding is a process by which categorical variables are converted into a form that could be provided to ML algorithms to do a better job in prediction. For that purpose, One-Hot Encoding will be used to convert these two columns to one-hot numeric array.\n",
    "\n",
    "The categorical value represents the numerical value of the entry in the dataset. This encoding will create a binary column for each category and returns a matrix with the results. \n"
   ]
  },
  {
   "cell_type": "code",
   "execution_count": 112,
   "metadata": {
    "execution": {
     "iopub.execute_input": "2021-12-07T17:36:04.304590Z",
     "iopub.status.busy": "2021-12-07T17:36:04.303904Z",
     "iopub.status.idle": "2021-12-07T17:36:04.308250Z",
     "shell.execute_reply": "2021-12-07T17:36:04.307481Z",
     "shell.execute_reply.started": "2021-12-07T17:36:04.304556Z"
    }
   },
   "outputs": [],
   "source": [
    "from sklearn.preprocessing import OneHotEncoder"
   ]
  },
  {
   "cell_type": "code",
   "execution_count": 113,
   "metadata": {
    "execution": {
     "iopub.execute_input": "2021-12-07T17:36:04.309799Z",
     "iopub.status.busy": "2021-12-07T17:36:04.309317Z",
     "iopub.status.idle": "2021-12-07T17:36:04.357478Z",
     "shell.execute_reply": "2021-12-07T17:36:04.356705Z",
     "shell.execute_reply.started": "2021-12-07T17:36:04.309760Z"
    }
   },
   "outputs": [],
   "source": [
    "yield_df_onehot = pd.get_dummies(yield_df, columns=['Area',\"Item\"], prefix = ['Country',\"Item\"])\n",
    "features=yield_df_onehot.loc[:, yield_df_onehot.columns != 'hg/ha_yield']\n",
    "label=yield_df['hg/ha_yield']\n",
    "features.head()"
   ]
  },
  {
   "cell_type": "code",
   "execution_count": 114,
   "metadata": {
    "execution": {
     "iopub.execute_input": "2021-12-07T17:36:04.359016Z",
     "iopub.status.busy": "2021-12-07T17:36:04.358705Z",
     "iopub.status.idle": "2021-12-07T17:36:04.366968Z",
     "shell.execute_reply": "2021-12-07T17:36:04.366080Z",
     "shell.execute_reply.started": "2021-12-07T17:36:04.358982Z"
    }
   },
   "outputs": [],
   "source": [
    "features = features.drop(['Year'], axis=1)"
   ]
  },
  {
   "cell_type": "code",
   "execution_count": 115,
   "metadata": {
    "execution": {
     "iopub.execute_input": "2021-12-07T17:36:04.369288Z",
     "iopub.status.busy": "2021-12-07T17:36:04.368675Z",
     "iopub.status.idle": "2021-12-07T17:36:04.386511Z",
     "shell.execute_reply": "2021-12-07T17:36:04.385865Z",
     "shell.execute_reply.started": "2021-12-07T17:36:04.369249Z"
    },
    "scrolled": true
   },
   "outputs": [],
   "source": [
    "features.info()"
   ]
  },
  {
   "cell_type": "code",
   "execution_count": 116,
   "metadata": {
    "execution": {
     "iopub.execute_input": "2021-12-07T17:36:04.388219Z",
     "iopub.status.busy": "2021-12-07T17:36:04.387597Z",
     "iopub.status.idle": "2021-12-07T17:36:04.410775Z",
     "shell.execute_reply": "2021-12-07T17:36:04.410100Z",
     "shell.execute_reply.started": "2021-12-07T17:36:04.388184Z"
    },
    "scrolled": true
   },
   "outputs": [],
   "source": [
    "features.head()"
   ]
  },
  {
   "cell_type": "markdown",
   "metadata": {},
   "source": [
    "\n",
    "### Scaling Features: \n",
    "\n",
    "Taking a look at the dataset above, it contains features highly varying in magnitudes, units and range. The features with high magnitudes will weigh in a lot more in the distance calculations than features with low magnitudes.\n",
    "\n",
    "To supress this effect, we need to bring all features to the same level of magnitudes. This can be acheived by scaling."
   ]
  },
  {
   "cell_type": "code",
   "execution_count": 117,
   "metadata": {
    "execution": {
     "iopub.execute_input": "2021-12-07T17:36:04.412100Z",
     "iopub.status.busy": "2021-12-07T17:36:04.411874Z",
     "iopub.status.idle": "2021-12-07T17:36:04.454389Z",
     "shell.execute_reply": "2021-12-07T17:36:04.453628Z",
     "shell.execute_reply.started": "2021-12-07T17:36:04.412071Z"
    }
   },
   "outputs": [],
   "source": [
    "from sklearn.preprocessing import MinMaxScaler\n",
    "scaler=MinMaxScaler()\n",
    "features=scaler.fit_transform(features) "
   ]
  },
  {
   "cell_type": "markdown",
   "metadata": {},
   "source": [
    "After dropping year column in addition to scaling all values in features, the resulting array will look something like this : "
   ]
  },
  {
   "cell_type": "code",
   "execution_count": 118,
   "metadata": {
    "execution": {
     "iopub.execute_input": "2021-12-07T17:36:04.456043Z",
     "iopub.status.busy": "2021-12-07T17:36:04.455767Z",
     "iopub.status.idle": "2021-12-07T17:36:04.462047Z",
     "shell.execute_reply": "2021-12-07T17:36:04.461261Z",
     "shell.execute_reply.started": "2021-12-07T17:36:04.456011Z"
    }
   },
   "outputs": [],
   "source": [
    "features"
   ]
  },
  {
   "cell_type": "markdown",
   "metadata": {},
   "source": [
    "## Training Data: \n",
    "\n",
    "The dataset will be split to two datasets, the training dataset and test dataset. The data is usually tend to be split inequality because training the model usually requires as much data-points as possible.The common splits are 70/30 or 80/20 for train/test.\n",
    "\n",
    "The training dataset is the intial dataset used to train ML algorithm to learn and produce right predictions. (70% of dataset is training dataset)\n",
    "\n",
    "The test dataset, however, is used to assess how well ML algorithm is trained with the training dataset. You can’t simply reuse the training dataset in the testing stage because ML algorithm will already “know” the expected output, which defeats the purpose of testing the algorithm. (30% of dataset is testing dataset) \n",
    "\n"
   ]
  },
  {
   "cell_type": "code",
   "execution_count": 119,
   "metadata": {
    "execution": {
     "iopub.execute_input": "2021-12-07T17:36:04.463966Z",
     "iopub.status.busy": "2021-12-07T17:36:04.463476Z",
     "iopub.status.idle": "2021-12-07T17:36:04.495999Z",
     "shell.execute_reply": "2021-12-07T17:36:04.495253Z",
     "shell.execute_reply.started": "2021-12-07T17:36:04.463930Z"
    }
   },
   "outputs": [],
   "source": [
    "from sklearn.model_selection import train_test_split\n",
    "train_data, test_data, train_labels, test_labels = train_test_split(features, label, test_size=0.3, random_state=42)"
   ]
  },
  {
   "cell_type": "code",
   "execution_count": 120,
   "metadata": {
    "execution": {
     "iopub.execute_input": "2021-12-07T17:36:04.497611Z",
     "iopub.status.busy": "2021-12-07T17:36:04.497335Z",
     "iopub.status.idle": "2021-12-07T17:36:04.501126Z",
     "shell.execute_reply": "2021-12-07T17:36:04.500350Z",
     "shell.execute_reply.started": "2021-12-07T17:36:04.497578Z"
    }
   },
   "outputs": [],
   "source": [
    "#write final df to csv file \n",
    "#yield_df.to_csv('../input/crop-yield-prediction-dataset/yield_df.csv')"
   ]
  },
  {
   "cell_type": "code",
   "execution_count": 121,
   "metadata": {
    "execution": {
     "iopub.execute_input": "2021-12-07T17:36:04.503015Z",
     "iopub.status.busy": "2021-12-07T17:36:04.502524Z",
     "iopub.status.idle": "2021-12-07T17:36:04.534656Z",
     "shell.execute_reply": "2021-12-07T17:36:04.533887Z",
     "shell.execute_reply.started": "2021-12-07T17:36:04.502978Z"
    }
   },
   "outputs": [],
   "source": [
    "from sklearn.model_selection import train_test_split\n",
    "train_data, test_data, train_labels, test_labels = train_test_split(features, label, test_size=0.3, random_state=42)"
   ]
  },
  {
   "cell_type": "markdown",
   "metadata": {},
   "source": [
    "# Part Four: Model Comparison & Selection \n",
    "\n",
    "Before deciding on an algorithem to use, first we need to evaluate, compare and choose the best one that fits this specific dataset.\n",
    "\n",
    "Usually, when working on a machine learning problem with a given dataset, we try different models and techniques to solve an optimization problem and fit the most accurate model, that will neither overfit nor underfit the model. \n",
    " \n",
    "For this project, we'll compare between the following models : \n",
    "\n",
    "- Gradient Boosting Regressor\n",
    "- Random Forest Regressor\n",
    "- SVM \n",
    "- Decision Tree Regressor\n"
   ]
  },
  {
   "cell_type": "code",
   "execution_count": 122,
   "metadata": {
    "execution": {
     "iopub.execute_input": "2021-12-07T17:36:04.537663Z",
     "iopub.status.busy": "2021-12-07T17:36:04.537204Z",
     "iopub.status.idle": "2021-12-07T17:36:04.543171Z",
     "shell.execute_reply": "2021-12-07T17:36:04.542187Z",
     "shell.execute_reply.started": "2021-12-07T17:36:04.537627Z"
    }
   },
   "outputs": [],
   "source": [
    "from sklearn.metrics import r2_score\n",
    "def compare_models(model):\n",
    "    model_name = model.__class__.__name__\n",
    "    fit=model.fit(train_data,train_labels)\n",
    "    y_pred=fit.predict(test_data)\n",
    "    r2=r2_score(test_labels,y_pred)\n",
    "    return([model_name,r2])"
   ]
  },
  {
   "cell_type": "code",
   "execution_count": 123,
   "metadata": {
    "execution": {
     "iopub.execute_input": "2021-12-07T17:36:04.544945Z",
     "iopub.status.busy": "2021-12-07T17:36:04.544547Z",
     "iopub.status.idle": "2021-12-07T17:36:04.553618Z",
     "shell.execute_reply": "2021-12-07T17:36:04.552869Z",
     "shell.execute_reply.started": "2021-12-07T17:36:04.544908Z"
    }
   },
   "outputs": [],
   "source": [
    "from sklearn.ensemble import RandomForestRegressor\n",
    "from sklearn.ensemble import GradientBoostingRegressor\n",
    "from sklearn import svm\n",
    "from sklearn.tree import DecisionTreeRegressor\n",
    "\n",
    "models = [\n",
    "    GradientBoostingRegressor(n_estimators=200, max_depth=3, random_state=0),\n",
    "     RandomForestRegressor(n_estimators=200, max_depth=3, random_state=0),\n",
    "    svm.SVR(),\n",
    "   DecisionTreeRegressor()\n",
    "]"
   ]
  },
  {
   "cell_type": "code",
   "execution_count": 124,
   "metadata": {
    "execution": {
     "iopub.execute_input": "2021-12-07T17:36:04.555475Z",
     "iopub.status.busy": "2021-12-07T17:36:04.555134Z",
     "iopub.status.idle": "2021-12-07T17:38:12.818676Z",
     "shell.execute_reply": "2021-12-07T17:38:12.817896Z",
     "shell.execute_reply.started": "2021-12-07T17:36:04.555441Z"
    },
    "scrolled": true
   },
   "outputs": [],
   "source": [
    "model_train=list(map(compare_models,models)) "
   ]
  },
  {
   "cell_type": "code",
   "execution_count": 125,
   "metadata": {
    "execution": {
     "iopub.execute_input": "2021-12-07T17:38:12.820504Z",
     "iopub.status.busy": "2021-12-07T17:38:12.819899Z",
     "iopub.status.idle": "2021-12-07T17:38:12.826102Z",
     "shell.execute_reply": "2021-12-07T17:38:12.825129Z",
     "shell.execute_reply.started": "2021-12-07T17:38:12.820468Z"
    }
   },
   "outputs": [],
   "source": [
    "print(*model_train, sep = \"\\n\")"
   ]
  },
  {
   "cell_type": "markdown",
   "metadata": {},
   "source": [
    "The evaluation metric is set based on **R^2 (coefficient of determination)** regression score function, that will represents the proportion of the variance for items (crops) in the regression model. **R^2** score shows how well terms (data points) fit a curve or line.\n",
    "\n",
    "**R^2** is a statistical measure between 0 and 1 which calculates how similar a regression line is to the data it’s fitted to. If it’s a 1, the model 100% predicts the data variance; if it’s a 0, the model predicts none of the variance. \n",
    "\n",
    "From results viewd above, **Decision Tree Regressor** has the highest R^2 score 0f **96%**, **GradientBoostingRegressor** comes second. \n",
    "\n",
    "\n",
    " I'll also calculate **Adjusted R^2** also indicates how well terms fit a curve or line, but adjusts for the number of terms in a model. If you add more and more useless variables to a model, adjusted r-squared will decrease. If you add more useful variables, adjusted r-squared will increase.\n",
    "Adjusted R2 will always be less than or equal to R2. "
   ]
  },
  {
   "cell_type": "code",
   "execution_count": 126,
   "metadata": {
    "execution": {
     "iopub.execute_input": "2021-12-07T17:38:12.827965Z",
     "iopub.status.busy": "2021-12-07T17:38:12.827525Z",
     "iopub.status.idle": "2021-12-07T17:38:12.839899Z",
     "shell.execute_reply": "2021-12-07T17:38:12.839242Z",
     "shell.execute_reply.started": "2021-12-07T17:38:12.827929Z"
    }
   },
   "outputs": [],
   "source": [
    "yield_df_onehot = yield_df_onehot.drop(['Year'], axis=1)"
   ]
  },
  {
   "cell_type": "code",
   "execution_count": 127,
   "metadata": {
    "execution": {
     "iopub.execute_input": "2021-12-07T17:38:12.841522Z",
     "iopub.status.busy": "2021-12-07T17:38:12.841260Z",
     "iopub.status.idle": "2021-12-07T17:38:12.864152Z",
     "shell.execute_reply": "2021-12-07T17:38:12.863154Z",
     "shell.execute_reply.started": "2021-12-07T17:38:12.841490Z"
    }
   },
   "outputs": [],
   "source": [
    "yield_df_onehot.head()"
   ]
  },
  {
   "cell_type": "code",
   "execution_count": 128,
   "metadata": {
    "execution": {
     "iopub.execute_input": "2021-12-07T17:38:12.866029Z",
     "iopub.status.busy": "2021-12-07T17:38:12.865482Z",
     "iopub.status.idle": "2021-12-07T17:38:13.021776Z",
     "shell.execute_reply": "2021-12-07T17:38:13.020965Z",
     "shell.execute_reply.started": "2021-12-07T17:38:12.865983Z"
    }
   },
   "outputs": [],
   "source": [
    "#setting test data to columns from dataframe and excluding 'hg/ha_yield' values where ML model should be predicting \n",
    "\n",
    "test_df=pd.DataFrame(test_data,columns=yield_df_onehot.loc[:, yield_df_onehot.columns != 'hg/ha_yield'].columns) \n",
    "\n",
    "# using stack function to return a reshaped DataFrame by pivoting the columns of the current dataframe\n",
    "\n",
    "cntry=test_df[[col for col in test_df.columns if 'Country' in col]].stack()[test_df[[col for col in test_df.columns if 'Country' in col]].stack()>0]\n",
    "cntrylist=list(pd.DataFrame(cntry).index.get_level_values(1))\n",
    "countries=[i.split(\"_\")[1] for i in cntrylist]\n",
    "itm=test_df[[col for col in test_df.columns if 'Item' in col]].stack()[test_df[[col for col in test_df.columns if 'Item' in col]].stack()>0]\n",
    "itmlist=list(pd.DataFrame(itm).index.get_level_values(1))\n",
    "items=[i.split(\"_\")[1] for i in itmlist]"
   ]
  },
  {
   "cell_type": "code",
   "execution_count": 129,
   "metadata": {
    "execution": {
     "iopub.execute_input": "2021-12-07T17:38:13.023465Z",
     "iopub.status.busy": "2021-12-07T17:38:13.023212Z",
     "iopub.status.idle": "2021-12-07T17:38:13.056131Z",
     "shell.execute_reply": "2021-12-07T17:38:13.055267Z",
     "shell.execute_reply.started": "2021-12-07T17:38:13.023433Z"
    }
   },
   "outputs": [],
   "source": [
    "test_df.head()"
   ]
  },
  {
   "cell_type": "code",
   "execution_count": 130,
   "metadata": {
    "execution": {
     "iopub.execute_input": "2021-12-07T17:38:13.057909Z",
     "iopub.status.busy": "2021-12-07T17:38:13.057639Z",
     "iopub.status.idle": "2021-12-07T17:38:13.073974Z",
     "shell.execute_reply": "2021-12-07T17:38:13.073111Z",
     "shell.execute_reply.started": "2021-12-07T17:38:13.057876Z"
    }
   },
   "outputs": [],
   "source": [
    "test_df.drop([col for col in test_df.columns if 'Item' in col],axis=1,inplace=True)\n",
    "test_df.drop([col for col in test_df.columns if 'Country' in col],axis=1,inplace=True)\n",
    "test_df.head()"
   ]
  },
  {
   "cell_type": "code",
   "execution_count": 131,
   "metadata": {
    "execution": {
     "iopub.execute_input": "2021-12-07T17:38:13.076695Z",
     "iopub.status.busy": "2021-12-07T17:38:13.076399Z",
     "iopub.status.idle": "2021-12-07T17:38:13.093683Z",
     "shell.execute_reply": "2021-12-07T17:38:13.092988Z",
     "shell.execute_reply.started": "2021-12-07T17:38:13.076651Z"
    },
    "scrolled": true
   },
   "outputs": [],
   "source": [
    "test_df['Country']=countries\n",
    "test_df['Item']=items\n",
    "test_df.head()"
   ]
  },
  {
   "cell_type": "code",
   "execution_count": 132,
   "metadata": {
    "execution": {
     "iopub.execute_input": "2021-12-07T17:38:13.096496Z",
     "iopub.status.busy": "2021-12-07T17:38:13.095028Z",
     "iopub.status.idle": "2021-12-07T17:38:13.295612Z",
     "shell.execute_reply": "2021-12-07T17:38:13.294939Z",
     "shell.execute_reply.started": "2021-12-07T17:38:13.096463Z"
    },
    "scrolled": true
   },
   "outputs": [],
   "source": [
    "clf=DecisionTreeRegressor()\n",
    "model=clf.fit(train_data,train_labels)\n",
    "\n",
    "test_df[\"yield_predicted\"]= model.predict(test_data)\n",
    "test_df[\"yield_actual\"]=pd.DataFrame(test_labels)[\"hg/ha_yield\"].tolist()\n",
    "test_group=test_df.groupby(\"Item\")\n",
    "test_group.apply(lambda x: r2_score(x.yield_actual,x.yield_predicted))"
   ]
  },
  {
   "cell_type": "code",
   "execution_count": 133,
   "metadata": {
    "execution": {
     "iopub.execute_input": "2021-12-07T17:38:13.297254Z",
     "iopub.status.busy": "2021-12-07T17:38:13.296991Z",
     "iopub.status.idle": "2021-12-07T17:38:13.512186Z",
     "shell.execute_reply": "2021-12-07T17:38:13.511548Z",
     "shell.execute_reply.started": "2021-12-07T17:38:13.297222Z"
    }
   },
   "outputs": [],
   "source": [
    "# So let's run the model actual values against the predicted ones \n",
    "\n",
    "fig, ax = plt.subplots() \n",
    "\n",
    "ax.scatter(test_df[\"yield_actual\"], test_df[\"yield_predicted\"],edgecolors=(0, 0, 0))\n",
    "\n",
    "ax.set_xlabel('Actual')\n",
    "ax.set_ylabel('Predicted')\n",
    "ax.set_title(\"Actual vs Predicted\")\n",
    "plt.show()"
   ]
  },
  {
   "cell_type": "markdown",
   "metadata": {},
   "source": [
    "The figure above shows the goodness of the fit with the predictions visualized as a line. It can be seen that R Square score is excellent. This means that we have found a good fitting model to predict the crops yield value for a certain country. Adding more features, like climate data; wind and pollution, the economical situation of a given country and so on will probably enhance the model’s predictions. \n"
   ]
  },
  {
   "cell_type": "code",
   "execution_count": 134,
   "metadata": {
    "execution": {
     "iopub.execute_input": "2021-12-07T17:38:13.513741Z",
     "iopub.status.busy": "2021-12-07T17:38:13.513370Z",
     "iopub.status.idle": "2021-12-07T17:38:13.531794Z",
     "shell.execute_reply": "2021-12-07T17:38:13.531000Z",
     "shell.execute_reply.started": "2021-12-07T17:38:13.513706Z"
    },
    "scrolled": true
   },
   "outputs": [],
   "source": [
    "def adjusted_r_squared(y,yhat,x):\n",
    "    score=1- (((1-(r2_score(y,yhat)))*(len(y)-1))/(len(y)-x.shape[1]-2))\n",
    "    return score\n",
    "\n",
    "test_group.apply(lambda x: adjusted_r_squared(x.yield_actual,x.yield_predicted,x))"
   ]
  },
  {
   "cell_type": "markdown",
   "metadata": {},
   "source": [
    "# Part Five: Model Results & Conclusions\n",
    "\n"
   ]
  },
  {
   "cell_type": "code",
   "execution_count": 135,
   "metadata": {
    "execution": {
     "iopub.execute_input": "2021-12-07T17:38:13.533749Z",
     "iopub.status.busy": "2021-12-07T17:38:13.533098Z",
     "iopub.status.idle": "2021-12-07T17:38:13.538256Z",
     "shell.execute_reply": "2021-12-07T17:38:13.537524Z",
     "shell.execute_reply.started": "2021-12-07T17:38:13.533713Z"
    }
   },
   "outputs": [],
   "source": [
    "varimp= {'imp':model.feature_importances_,'names':yield_df_onehot.columns[yield_df_onehot.columns!=\"hg/ha_yield\"]}"
   ]
  },
  {
   "cell_type": "code",
   "execution_count": 136,
   "metadata": {
    "execution": {
     "iopub.execute_input": "2021-12-07T17:38:13.539953Z",
     "iopub.status.busy": "2021-12-07T17:38:13.539506Z",
     "iopub.status.idle": "2021-12-07T17:38:16.443197Z",
     "shell.execute_reply": "2021-12-07T17:38:16.442497Z",
     "shell.execute_reply.started": "2021-12-07T17:38:13.539916Z"
    }
   },
   "outputs": [],
   "source": [
    "a4_dims = (8.27,16.7)\n",
    "\n",
    "fig, ax = plt.subplots(figsize=a4_dims)\n",
    "df=pd.DataFrame.from_dict(varimp)\n",
    "df.sort_values(ascending=False,by=[\"imp\"],inplace=True)\n",
    "df=df.dropna()\n",
    "sns.barplot(x=\"imp\",y=\"names\",palette=\"vlag\",data=df,orient=\"h\",ax=ax);"
   ]
  },
  {
   "cell_type": "markdown",
   "metadata": {},
   "source": [
    "Getting only top 7 of features importance in the model:"
   ]
  },
  {
   "cell_type": "code",
   "execution_count": 137,
   "metadata": {
    "execution": {
     "iopub.execute_input": "2021-12-07T17:38:16.444404Z",
     "iopub.status.busy": "2021-12-07T17:38:16.444150Z",
     "iopub.status.idle": "2021-12-07T17:38:16.702729Z",
     "shell.execute_reply": "2021-12-07T17:38:16.702060Z",
     "shell.execute_reply.started": "2021-12-07T17:38:16.444371Z"
    }
   },
   "outputs": [],
   "source": [
    "#7 most important factors that affect crops \n",
    "a4_dims = (16.7, 8.27)\n",
    "\n",
    "fig, ax = plt.subplots(figsize=a4_dims)\n",
    "df=pd.DataFrame.from_dict(varimp)\n",
    "df.sort_values(ascending=False,by=[\"imp\"],inplace=True)\n",
    "df=df.dropna()\n",
    "df=df.nlargest(7, 'imp')\n",
    "sns.barplot(x=\"imp\",y=\"names\",palette=\"vlag\",data=df,orient=\"h\",ax=ax);"
   ]
  },
  {
   "cell_type": "markdown",
   "metadata": {},
   "source": [
    "The crop being potatoes has the highest importance in the decision making for the model, where it's the highest crops in the dataset. Cassava too, then as expected we see the effect of pesticides, where its the third most important feature, and then if the crop is sweet potatoes, we see some of the highest crops in features importance in dataset. \n",
    "\n",
    "If the crop is grown in India, makes sense since Indis has the largest crops sum in the dataset. Then comes rainfall and temprature. Thr first assumption about these features were correct, where they all significanally impact the expected crops yield in the model. "
   ]
  },
  {
   "cell_type": "code",
   "execution_count": 138,
   "metadata": {
    "execution": {
     "iopub.execute_input": "2021-12-07T17:38:16.704383Z",
     "iopub.status.busy": "2021-12-07T17:38:16.703953Z",
     "iopub.status.idle": "2021-12-07T17:38:17.231767Z",
     "shell.execute_reply": "2021-12-07T17:38:17.231024Z",
     "shell.execute_reply.started": "2021-12-07T17:38:16.704348Z"
    }
   },
   "outputs": [],
   "source": [
    "#Boxplot that shows yield for each item \n",
    "a4_dims = (16.7, 8.27)\n",
    "\n",
    "fig, ax = plt.subplots(figsize=a4_dims)\n",
    "sns.boxplot(x=\"Item\",y=\"hg/ha_yield\",palette=\"vlag\",data=yield_df,ax=ax);"
   ]
  }
 ],
 "metadata": {
  "kernelspec": {
   "display_name": "Python 3 (ipykernel)",
   "language": "python",
   "name": "python3"
  },
  "language_info": {
   "codemirror_mode": {
    "name": "ipython",
    "version": 3
   },
   "file_extension": ".py",
   "mimetype": "text/x-python",
   "name": "python",
   "nbconvert_exporter": "python",
   "pygments_lexer": "ipython3",
   "version": "3.9.7"
  }
 },
 "nbformat": 4,
 "nbformat_minor": 4
}
